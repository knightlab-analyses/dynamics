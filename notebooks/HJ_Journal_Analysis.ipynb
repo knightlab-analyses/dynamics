{
 "cells": [
  {
   "cell_type": "code",
   "execution_count": 1,
   "metadata": {},
   "outputs": [],
   "source": [
    "import pandas as pd \n",
    "import seaborn as sns\n",
    "import matplotlib.pyplot as plt"
   ]
  },
  {
   "cell_type": "code",
   "execution_count": 2,
   "metadata": {},
   "outputs": [
    {
     "data": {
      "text/html": [
       "<div>\n",
       "<style scoped>\n",
       "    .dataframe tbody tr th:only-of-type {\n",
       "        vertical-align: middle;\n",
       "    }\n",
       "\n",
       "    .dataframe tbody tr th {\n",
       "        vertical-align: top;\n",
       "    }\n",
       "\n",
       "    .dataframe thead th {\n",
       "        text-align: right;\n",
       "    }\n",
       "</style>\n",
       "<table border=\"1\" class=\"dataframe\">\n",
       "  <thead>\n",
       "    <tr style=\"text-align: right;\">\n",
       "      <th></th>\n",
       "      <th>Journal_Group</th>\n",
       "      <th>Journal</th>\n",
       "      <th>Year</th>\n",
       "      <th>Article_Title</th>\n",
       "      <th>doi</th>\n",
       "      <th>PMID</th>\n",
       "      <th>First_Author</th>\n",
       "      <th>Last_Author</th>\n",
       "      <th>Microbiome</th>\n",
       "      <th>Vivarium</th>\n",
       "      <th>Vivarium_Settings</th>\n",
       "      <th>Sample_Host</th>\n",
       "      <th>Sample_Type</th>\n",
       "      <th>Collection_Time</th>\n",
       "      <th>Time_note</th>\n",
       "      <th>Collection_Time_Reason</th>\n",
       "    </tr>\n",
       "  </thead>\n",
       "  <tbody>\n",
       "    <tr>\n",
       "      <th>0</th>\n",
       "      <td>ASM</td>\n",
       "      <td>mSystems</td>\n",
       "      <td>2019</td>\n",
       "      <td>Pangenomic Approach To Understanding Microbial...</td>\n",
       "      <td>10.1128/mSystems.00281-18</td>\n",
       "      <td>NaN</td>\n",
       "      <td>Blaustein</td>\n",
       "      <td>Hartmann</td>\n",
       "      <td>Yes</td>\n",
       "      <td>No</td>\n",
       "      <td>NaN</td>\n",
       "      <td>environment</td>\n",
       "      <td>built environment</td>\n",
       "      <td>not provided</td>\n",
       "      <td>NaN</td>\n",
       "      <td>not provided</td>\n",
       "    </tr>\n",
       "    <tr>\n",
       "      <th>1</th>\n",
       "      <td>ASM</td>\n",
       "      <td>mSystems</td>\n",
       "      <td>2019</td>\n",
       "      <td>Emergent Subpopulation Behavior Uncovered with...</td>\n",
       "      <td>10.1128/mSystems.00230-18</td>\n",
       "      <td>NaN</td>\n",
       "      <td>Succurro</td>\n",
       "      <td>Ebenhöh</td>\n",
       "      <td>No</td>\n",
       "      <td>No</td>\n",
       "      <td>NaN</td>\n",
       "      <td>culture</td>\n",
       "      <td>bacterial culture</td>\n",
       "      <td>not provided</td>\n",
       "      <td>NaN</td>\n",
       "      <td>not provided</td>\n",
       "    </tr>\n",
       "    <tr>\n",
       "      <th>2</th>\n",
       "      <td>ASM</td>\n",
       "      <td>mSystems</td>\n",
       "      <td>2019</td>\n",
       "      <td>Integrated Omic Analyses Provide Evidence that...</td>\n",
       "      <td>10.1128/mSystems.00193-1</td>\n",
       "      <td>NaN</td>\n",
       "      <td>Camejo</td>\n",
       "      <td>Noguera</td>\n",
       "      <td>No</td>\n",
       "      <td>No</td>\n",
       "      <td>NaN</td>\n",
       "      <td>environment</td>\n",
       "      <td>bacterial culture</td>\n",
       "      <td>not provided</td>\n",
       "      <td>NaN</td>\n",
       "      <td>not provided</td>\n",
       "    </tr>\n",
       "    <tr>\n",
       "      <th>3</th>\n",
       "      <td>ASM</td>\n",
       "      <td>mSystems</td>\n",
       "      <td>2019</td>\n",
       "      <td>Rare Taxa Exhibit Disproportionate Cell-Level ...</td>\n",
       "      <td>10.1128/mSystems.00208-18</td>\n",
       "      <td>NaN</td>\n",
       "      <td>Jia</td>\n",
       "      <td>Lee</td>\n",
       "      <td>Yes</td>\n",
       "      <td>No</td>\n",
       "      <td>NaN</td>\n",
       "      <td>culture</td>\n",
       "      <td>mock community</td>\n",
       "      <td>not provided</td>\n",
       "      <td>NaN</td>\n",
       "      <td>not provided</td>\n",
       "    </tr>\n",
       "    <tr>\n",
       "      <th>4</th>\n",
       "      <td>ASM</td>\n",
       "      <td>mSystems</td>\n",
       "      <td>2019</td>\n",
       "      <td>Feed Restriction Modifies Intestinal Microbiot...</td>\n",
       "      <td>10.1128/mSystems.00261-18</td>\n",
       "      <td>NaN</td>\n",
       "      <td>Zebeli</td>\n",
       "      <td>Zebeli</td>\n",
       "      <td>Yes</td>\n",
       "      <td>No</td>\n",
       "      <td>NaN</td>\n",
       "      <td>chicken</td>\n",
       "      <td>ileal, cecal</td>\n",
       "      <td>relative</td>\n",
       "      <td>before morning feeding</td>\n",
       "      <td>to see the weight difference</td>\n",
       "    </tr>\n",
       "    <tr>\n",
       "      <th>...</th>\n",
       "      <td>...</td>\n",
       "      <td>...</td>\n",
       "      <td>...</td>\n",
       "      <td>...</td>\n",
       "      <td>...</td>\n",
       "      <td>...</td>\n",
       "      <td>...</td>\n",
       "      <td>...</td>\n",
       "      <td>...</td>\n",
       "      <td>...</td>\n",
       "      <td>...</td>\n",
       "      <td>...</td>\n",
       "      <td>...</td>\n",
       "      <td>...</td>\n",
       "      <td>...</td>\n",
       "      <td>...</td>\n",
       "    </tr>\n",
       "    <tr>\n",
       "      <th>581</th>\n",
       "      <td>Cell</td>\n",
       "      <td>Cell</td>\n",
       "      <td>2019</td>\n",
       "      <td>Polygenic Prediction of Weight and Obesity Tra...</td>\n",
       "      <td>10.1016/j.cell.2019.03.028</td>\n",
       "      <td>NaN</td>\n",
       "      <td>Khera</td>\n",
       "      <td>Kathiresan</td>\n",
       "      <td>No</td>\n",
       "      <td>No</td>\n",
       "      <td>NaN</td>\n",
       "      <td>human</td>\n",
       "      <td>genetics</td>\n",
       "      <td>not provided</td>\n",
       "      <td>NaN</td>\n",
       "      <td>not provided</td>\n",
       "    </tr>\n",
       "    <tr>\n",
       "      <th>582</th>\n",
       "      <td>Cell</td>\n",
       "      <td>Cell</td>\n",
       "      <td>2019</td>\n",
       "      <td>Lipid-Associated Macrophages Control Metabolic...</td>\n",
       "      <td>10.1016/j.cell.2019.05.054</td>\n",
       "      <td>NaN</td>\n",
       "      <td>Jaitin</td>\n",
       "      <td>Amit</td>\n",
       "      <td>No</td>\n",
       "      <td>Yes</td>\n",
       "      <td>12:12</td>\n",
       "      <td>mouse, human</td>\n",
       "      <td>white adipose tissue</td>\n",
       "      <td>not provided</td>\n",
       "      <td>NaN</td>\n",
       "      <td>not provided</td>\n",
       "    </tr>\n",
       "    <tr>\n",
       "      <th>583</th>\n",
       "      <td>Cell</td>\n",
       "      <td>Cell</td>\n",
       "      <td>2019</td>\n",
       "      <td>Fate Mapping via Ms4a3-Expression History Trac...</td>\n",
       "      <td>10.1016/j.cell.2019.08.009</td>\n",
       "      <td>NaN</td>\n",
       "      <td>Liu</td>\n",
       "      <td>Ginhoux</td>\n",
       "      <td>No</td>\n",
       "      <td>Yes</td>\n",
       "      <td>NaN</td>\n",
       "      <td>mouse</td>\n",
       "      <td>blood, tissue</td>\n",
       "      <td>not provided</td>\n",
       "      <td>NaN</td>\n",
       "      <td>not provided</td>\n",
       "    </tr>\n",
       "    <tr>\n",
       "      <th>584</th>\n",
       "      <td>Cell</td>\n",
       "      <td>Cell</td>\n",
       "      <td>2019</td>\n",
       "      <td>B Cell Responses: Cell Interaction Dynamics an...</td>\n",
       "      <td>10.1016/j.cell.2019.03.016</td>\n",
       "      <td>NaN</td>\n",
       "      <td>Cyster</td>\n",
       "      <td>Allen</td>\n",
       "      <td>No</td>\n",
       "      <td>Yes</td>\n",
       "      <td>NaN</td>\n",
       "      <td>mouse, human</td>\n",
       "      <td>blood</td>\n",
       "      <td>not provided</td>\n",
       "      <td>NaN</td>\n",
       "      <td>not provided</td>\n",
       "    </tr>\n",
       "    <tr>\n",
       "      <th>585</th>\n",
       "      <td>Cell</td>\n",
       "      <td>Cell</td>\n",
       "      <td>2019</td>\n",
       "      <td>A Structure-Informed Atlas of Human-Virus Inte...</td>\n",
       "      <td>10.1016/j.cell.2019.08.005</td>\n",
       "      <td>NaN</td>\n",
       "      <td>Lasso</td>\n",
       "      <td>Shapira</td>\n",
       "      <td>No</td>\n",
       "      <td>Yes</td>\n",
       "      <td>NaN</td>\n",
       "      <td>mouse, human</td>\n",
       "      <td>cells, proteins</td>\n",
       "      <td>not provided</td>\n",
       "      <td>NaN</td>\n",
       "      <td>not provided</td>\n",
       "    </tr>\n",
       "  </tbody>\n",
       "</table>\n",
       "<p>586 rows × 16 columns</p>\n",
       "</div>"
      ],
      "text/plain": [
       "    Journal_Group   Journal  Year  \\\n",
       "0             ASM  mSystems  2019   \n",
       "1             ASM  mSystems  2019   \n",
       "2             ASM  mSystems  2019   \n",
       "3             ASM  mSystems  2019   \n",
       "4             ASM  mSystems  2019   \n",
       "..            ...       ...   ...   \n",
       "581          Cell      Cell  2019   \n",
       "582          Cell      Cell  2019   \n",
       "583          Cell      Cell  2019   \n",
       "584          Cell      Cell  2019   \n",
       "585          Cell      Cell  2019   \n",
       "\n",
       "                                         Article_Title  \\\n",
       "0    Pangenomic Approach To Understanding Microbial...   \n",
       "1    Emergent Subpopulation Behavior Uncovered with...   \n",
       "2    Integrated Omic Analyses Provide Evidence that...   \n",
       "3    Rare Taxa Exhibit Disproportionate Cell-Level ...   \n",
       "4    Feed Restriction Modifies Intestinal Microbiot...   \n",
       "..                                                 ...   \n",
       "581  Polygenic Prediction of Weight and Obesity Tra...   \n",
       "582  Lipid-Associated Macrophages Control Metabolic...   \n",
       "583  Fate Mapping via Ms4a3-Expression History Trac...   \n",
       "584  B Cell Responses: Cell Interaction Dynamics an...   \n",
       "585  A Structure-Informed Atlas of Human-Virus Inte...   \n",
       "\n",
       "                            doi  PMID First_Author Last_Author Microbiome  \\\n",
       "0     10.1128/mSystems.00281-18   NaN    Blaustein    Hartmann        Yes   \n",
       "1     10.1128/mSystems.00230-18   NaN     Succurro     Ebenhöh         No   \n",
       "2      10.1128/mSystems.00193-1   NaN       Camejo     Noguera         No   \n",
       "3     10.1128/mSystems.00208-18   NaN          Jia         Lee        Yes   \n",
       "4     10.1128/mSystems.00261-18   NaN       Zebeli      Zebeli        Yes   \n",
       "..                          ...   ...          ...         ...        ...   \n",
       "581  10.1016/j.cell.2019.03.028   NaN        Khera  Kathiresan         No   \n",
       "582  10.1016/j.cell.2019.05.054   NaN       Jaitin        Amit         No   \n",
       "583  10.1016/j.cell.2019.08.009   NaN          Liu     Ginhoux         No   \n",
       "584  10.1016/j.cell.2019.03.016   NaN       Cyster       Allen         No   \n",
       "585  10.1016/j.cell.2019.08.005   NaN        Lasso     Shapira         No   \n",
       "\n",
       "    Vivarium Vivarium_Settings   Sample_Host           Sample_Type  \\\n",
       "0         No               NaN   environment     built environment   \n",
       "1         No               NaN       culture     bacterial culture   \n",
       "2         No               NaN   environment     bacterial culture   \n",
       "3         No               NaN       culture        mock community   \n",
       "4         No               NaN       chicken          ileal, cecal   \n",
       "..       ...               ...           ...                   ...   \n",
       "581       No               NaN         human              genetics   \n",
       "582      Yes             12:12  mouse, human  white adipose tissue   \n",
       "583      Yes               NaN         mouse         blood, tissue   \n",
       "584      Yes               NaN  mouse, human                 blood   \n",
       "585      Yes               NaN  mouse, human       cells, proteins   \n",
       "\n",
       "    Collection_Time               Time_note        Collection_Time_Reason  \n",
       "0      not provided                     NaN                  not provided  \n",
       "1      not provided                     NaN                  not provided  \n",
       "2      not provided                     NaN                  not provided  \n",
       "3      not provided                     NaN                  not provided  \n",
       "4          relative  before morning feeding  to see the weight difference  \n",
       "..              ...                     ...                           ...  \n",
       "581    not provided                     NaN                  not provided  \n",
       "582    not provided                     NaN                  not provided  \n",
       "583    not provided                     NaN                  not provided  \n",
       "584    not provided                     NaN                  not provided  \n",
       "585    not provided                     NaN                  not provided  \n",
       "\n",
       "[586 rows x 16 columns]"
      ]
     },
     "execution_count": 2,
     "metadata": {},
     "output_type": "execute_result"
    }
   ],
   "source": [
    "df = pd.read_csv('../data/HJ22_journal_review_analysis_edit.csv')\n",
    "df"
   ]
  },
  {
   "cell_type": "code",
   "execution_count": 3,
   "metadata": {},
   "outputs": [
    {
     "data": {
      "text/plain": [
       "(586, 16)"
      ]
     },
     "execution_count": 3,
     "metadata": {},
     "output_type": "execute_result"
    }
   ],
   "source": [
    "df.shape "
   ]
  },
  {
   "cell_type": "code",
   "execution_count": 4,
   "metadata": {},
   "outputs": [
    {
     "data": {
      "text/plain": [
       "array(['Yes', 'No'], dtype=object)"
      ]
     },
     "execution_count": 4,
     "metadata": {},
     "output_type": "execute_result"
    }
   ],
   "source": [
    "df.Microbiome.unique()"
   ]
  },
  {
   "cell_type": "code",
   "execution_count": 5,
   "metadata": {},
   "outputs": [
    {
     "data": {
      "text/plain": [
       "2"
      ]
     },
     "execution_count": 5,
     "metadata": {},
     "output_type": "execute_result"
    }
   ],
   "source": [
    "df.Microbiome.nunique()"
   ]
  },
  {
   "cell_type": "code",
   "execution_count": 6,
   "metadata": {},
   "outputs": [
    {
     "data": {
      "text/plain": [
       "Yes    317\n",
       "No     269\n",
       "Name: Microbiome, dtype: int64"
      ]
     },
     "execution_count": 6,
     "metadata": {},
     "output_type": "execute_result"
    }
   ],
   "source": [
    "df.Microbiome.value_counts()"
   ]
  },
  {
   "cell_type": "code",
   "execution_count": 7,
   "metadata": {},
   "outputs": [],
   "source": [
    "df.Collection_Time = df.Collection_Time.str.rstrip()"
   ]
  },
  {
   "cell_type": "code",
   "execution_count": 8,
   "metadata": {},
   "outputs": [
    {
     "data": {
      "text/plain": [
       "array(['not provided', 'relative', 'Yes'], dtype=object)"
      ]
     },
     "execution_count": 8,
     "metadata": {},
     "output_type": "execute_result"
    }
   ],
   "source": [
    "df.Collection_Time.unique()"
   ]
  },
  {
   "cell_type": "code",
   "execution_count": 9,
   "metadata": {},
   "outputs": [
    {
     "data": {
      "text/plain": [
       "not provided    548\n",
       "relative         33\n",
       "Yes               5\n",
       "Name: Collection_Time, dtype: int64"
      ]
     },
     "execution_count": 9,
     "metadata": {},
     "output_type": "execute_result"
    }
   ],
   "source": [
    "df.Collection_Time.value_counts()"
   ]
  },
  {
   "cell_type": "code",
   "execution_count": 10,
   "metadata": {},
   "outputs": [
    {
     "data": {
      "text/plain": [
       "<AxesSubplot:xlabel='Collection_Time', ylabel='count'>"
      ]
     },
     "execution_count": 10,
     "metadata": {},
     "output_type": "execute_result"
    },
    {
     "data": {
      "image/png": "[encoded data removed]",
      "text/plain": [
       "<Figure size 432x288 with 1 Axes>"
      ]
     },
     "metadata": {
      "needs_background": "light"
     },
     "output_type": "display_data"
    }
   ],
   "source": [
    "sns.countplot(data=df, x='Collection_Time')"
   ]
  },
  {
   "cell_type": "code",
   "execution_count": 11,
   "metadata": {},
   "outputs": [
    {
     "data": {
      "text/plain": [
       "(array([0, 1, 2, 3, 4, 5, 6, 7, 8]),\n",
       " [Text(0, 0, 'mSystems'),\n",
       "  Text(1, 0, 'Science; Science Translational Medicine; Science Signaling; Science Advances; Science Immunology'),\n",
       "  Text(2, 0, 'Nature Communications'),\n",
       "  Text(3, 0, 'Nature'),\n",
       "  Text(4, 0, 'Nature Microbiology'),\n",
       "  Text(5, 0, 'Cell Reports'),\n",
       "  Text(6, 0, 'Cell Metabolism'),\n",
       "  Text(7, 0, 'Cell Host Microbe'),\n",
       "  Text(8, 0, 'Cell')])"
      ]
     },
     "execution_count": 11,
     "metadata": {},
     "output_type": "execute_result"
    },
    {
     "data": {
      "image/png": "[encoded data removed]",
      "text/plain": [
       "<Figure size 432x288 with 1 Axes>"
      ]
     },
     "metadata": {
      "needs_background": "light"
     },
     "output_type": "display_data"
    }
   ],
   "source": [
    "sns.countplot(data=df, x='Journal')\n",
    "plt.xticks(rotation=90)"
   ]
  },
  {
   "cell_type": "code",
   "execution_count": 12,
   "metadata": {},
   "outputs": [
    {
     "data": {
      "text/plain": [
       "Yes    317\n",
       "No     269\n",
       "Name: Microbiome, dtype: int64"
      ]
     },
     "execution_count": 12,
     "metadata": {},
     "output_type": "execute_result"
    }
   ],
   "source": [
    "df2 = df.Microbiome.value_counts()\n",
    "df2"
   ]
  },
  {
   "cell_type": "code",
   "execution_count": 13,
   "metadata": {},
   "outputs": [
    {
     "data": {
      "image/png": "[encoded data removed]",
      "text/plain": [
       "<Figure size 432x288 with 1 Axes>"
      ]
     },
     "metadata": {},
     "output_type": "display_data"
    }
   ],
   "source": [
    "df2.plot.pie(autopct=\"%.1f%%\")\n",
    "plt.title(\"Microbiome Data Present\", fontsize=20)\n",
    "plt.ylabel('')\n",
    "plt.rcParams['font.family'] = 'sans-serif'\n",
    "plt.rcParams['font.sans-serif'] = 'Arial'\n",
    "plt.rcParams['svg.fonttype'] = 'none'\n",
    "plt.savefig('../figures/Journals/JournalAnalysis_Microbiome.svg', dpi=150, bbox_inches='tight')"
   ]
  },
  {
   "cell_type": "code",
   "execution_count": 14,
   "metadata": {},
   "outputs": [
    {
     "data": {
      "text/plain": [
       "not provided    548\n",
       "relative         33\n",
       "Yes               5\n",
       "Name: Collection_Time, dtype: int64"
      ]
     },
     "execution_count": 14,
     "metadata": {},
     "output_type": "execute_result"
    }
   ],
   "source": [
    "df3 = df.Collection_Time.value_counts()\n",
    "df3"
   ]
  },
  {
   "cell_type": "code",
   "execution_count": 15,
   "metadata": {},
   "outputs": [
    {
     "data": {
      "image/png": "[encoded data removed]",
      "text/plain": [
       "<Figure size 432x288 with 1 Axes>"
      ]
     },
     "metadata": {},
     "output_type": "display_data"
    }
   ],
   "source": [
    "df3.plot.pie(autopct=\"%.2f%%\")\n",
    "plt.title(\"Collection Time\", fontsize=20)\n",
    "plt.ylabel('')\n",
    "plt.rcParams['font.family'] = 'sans-serif'\n",
    "plt.rcParams['font.sans-serif'] = 'Arial'\n",
    "plt.rcParams['svg.fonttype'] = 'none'\n",
    "plt.savefig('../figures/Journals/JournalAnalysis_CollectionTime.svg', dpi=150, bbox_inches='tight')"
   ]
  },
  {
   "cell_type": "code",
   "execution_count": 16,
   "metadata": {},
   "outputs": [
    {
     "data": {
      "text/plain": [
       "Nature Communications                                                                               123\n",
       "mSystems                                                                                            106\n",
       "Science; Science Translational Medicine; Science Signaling; Science Advances; Science Immunology     89\n",
       "Cell Host Microbe                                                                                    83\n",
       "Cell                                                                                                 50\n",
       "Cell Reports                                                                                         39\n",
       "Nature Microbiology                                                                                  38\n",
       "Nature                                                                                               29\n",
       "Cell Metabolism                                                                                      29\n",
       "Name: Journal, dtype: int64"
      ]
     },
     "execution_count": 16,
     "metadata": {},
     "output_type": "execute_result"
    }
   ],
   "source": [
    "df4 = df.Journal.value_counts()\n",
    "df4"
   ]
  },
  {
   "cell_type": "code",
   "execution_count": 17,
   "metadata": {},
   "outputs": [
    {
     "data": {
      "text/plain": [
       "<AxesSubplot:ylabel='Journal'>"
      ]
     },
     "execution_count": 17,
     "metadata": {},
     "output_type": "execute_result"
    },
    {
     "data": {
      "image/png": "[encoded data removed]",
      "text/plain": [
       "<Figure size 432x288 with 1 Axes>"
      ]
     },
     "metadata": {},
     "output_type": "display_data"
    }
   ],
   "source": [
    "df4.plot.pie(autopct=\"%.2f%%\")"
   ]
  },
  {
   "cell_type": "code",
   "execution_count": 45,
   "metadata": {
    "scrolled": true
   },
   "outputs": [
    {
     "data": {
      "image/png": "[encoded data removed]",
      "text/plain": [
       "<Figure size 432x288 with 1 Axes>"
      ]
     },
     "metadata": {},
     "output_type": "display_data"
    }
   ],
   "source": [
    "df4.plot.pie(autopct=\"%.2f%%\", explode=[0.04]*9, colors=['darkgreen', 'mediumseagreen', 'lime', 'aquamarine', 'lightseagreen', 'teal', 'cadetblue', 'deepskyblue', 'steelblue'])\n",
    "plt.title(\"Journal Composition\", fontsize=20)\n",
    "plt.ylabel('')\n",
    "plt.rcParams['font.family'] = 'sans-serif'\n",
    "plt.rcParams['font.sans-serif'] = 'Arial'\n",
    "plt.rcParams['svg.fonttype'] = 'none'\n",
    "#plt.savefig('../figures/Journals/JournalAnalysis_JournalPieplot.svg', dpi=150, bbox_inches='tight')"
   ]
  },
  {
   "cell_type": "code",
   "execution_count": 18,
   "metadata": {},
   "outputs": [
    {
     "data": {
      "text/plain": [
       "Cell       201\n",
       "Nature     190\n",
       "ASM        106\n",
       "Science     89\n",
       "Name: Journal_Group, dtype: int64"
      ]
     },
     "execution_count": 18,
     "metadata": {},
     "output_type": "execute_result"
    }
   ],
   "source": [
    "df5= df.Journal_Group.value_counts()\n",
    "df5"
   ]
  },
  {
   "cell_type": "code",
   "execution_count": 19,
   "metadata": {},
   "outputs": [
    {
     "data": {
      "image/png": "[encoded data removed]",
      "text/plain": [
       "<Figure size 432x288 with 1 Axes>"
      ]
     },
     "metadata": {},
     "output_type": "display_data"
    }
   ],
   "source": [
    "df5.plot.pie(autopct=\"%.2f%%\", explode=[0.04]*4, colors=['red', 'lightcoral', 'darkorange', 'gold'])\n",
    "plt.title(\"Journal Group Composition\", fontsize=20)\n",
    "plt.ylabel('')\n",
    "plt.rcParams['font.family'] = 'sans-serif'\n",
    "plt.rcParams['font.sans-serif'] = 'Arial'\n",
    "plt.rcParams['svg.fonttype'] = 'none'\n",
    "#plt.savefig('../figures/Journals/JournalAnalysis_JournalGroupComposition.svg', dpi=150, bbox_inches='tight')"
   ]
  },
  {
   "cell_type": "markdown",
   "metadata": {},
   "source": [
    "# Contains Microbiome Data"
   ]
  },
  {
   "cell_type": "code",
   "execution_count": 20,
   "metadata": {},
   "outputs": [
    {
     "data": {
      "text/html": [
       "<div>\n",
       "<style scoped>\n",
       "    .dataframe tbody tr th:only-of-type {\n",
       "        vertical-align: middle;\n",
       "    }\n",
       "\n",
       "    .dataframe tbody tr th {\n",
       "        vertical-align: top;\n",
       "    }\n",
       "\n",
       "    .dataframe thead th {\n",
       "        text-align: right;\n",
       "    }\n",
       "</style>\n",
       "<table border=\"1\" class=\"dataframe\">\n",
       "  <thead>\n",
       "    <tr style=\"text-align: right;\">\n",
       "      <th></th>\n",
       "      <th>Journal_Group</th>\n",
       "      <th>Journal</th>\n",
       "      <th>Year</th>\n",
       "      <th>Article_Title</th>\n",
       "      <th>doi</th>\n",
       "      <th>PMID</th>\n",
       "      <th>First_Author</th>\n",
       "      <th>Last_Author</th>\n",
       "      <th>Microbiome</th>\n",
       "      <th>Vivarium</th>\n",
       "      <th>Vivarium_Settings</th>\n",
       "      <th>Sample_Host</th>\n",
       "      <th>Sample_Type</th>\n",
       "      <th>Collection_Time</th>\n",
       "      <th>Time_note</th>\n",
       "      <th>Collection_Time_Reason</th>\n",
       "    </tr>\n",
       "  </thead>\n",
       "  <tbody>\n",
       "    <tr>\n",
       "      <th>0</th>\n",
       "      <td>ASM</td>\n",
       "      <td>mSystems</td>\n",
       "      <td>2019</td>\n",
       "      <td>Pangenomic Approach To Understanding Microbial...</td>\n",
       "      <td>10.1128/mSystems.00281-18</td>\n",
       "      <td>NaN</td>\n",
       "      <td>Blaustein</td>\n",
       "      <td>Hartmann</td>\n",
       "      <td>Yes</td>\n",
       "      <td>No</td>\n",
       "      <td>NaN</td>\n",
       "      <td>environment</td>\n",
       "      <td>built environment</td>\n",
       "      <td>not provided</td>\n",
       "      <td>NaN</td>\n",
       "      <td>not provided</td>\n",
       "    </tr>\n",
       "    <tr>\n",
       "      <th>3</th>\n",
       "      <td>ASM</td>\n",
       "      <td>mSystems</td>\n",
       "      <td>2019</td>\n",
       "      <td>Rare Taxa Exhibit Disproportionate Cell-Level ...</td>\n",
       "      <td>10.1128/mSystems.00208-18</td>\n",
       "      <td>NaN</td>\n",
       "      <td>Jia</td>\n",
       "      <td>Lee</td>\n",
       "      <td>Yes</td>\n",
       "      <td>No</td>\n",
       "      <td>NaN</td>\n",
       "      <td>culture</td>\n",
       "      <td>mock community</td>\n",
       "      <td>not provided</td>\n",
       "      <td>NaN</td>\n",
       "      <td>not provided</td>\n",
       "    </tr>\n",
       "    <tr>\n",
       "      <th>4</th>\n",
       "      <td>ASM</td>\n",
       "      <td>mSystems</td>\n",
       "      <td>2019</td>\n",
       "      <td>Feed Restriction Modifies Intestinal Microbiot...</td>\n",
       "      <td>10.1128/mSystems.00261-18</td>\n",
       "      <td>NaN</td>\n",
       "      <td>Zebeli</td>\n",
       "      <td>Zebeli</td>\n",
       "      <td>Yes</td>\n",
       "      <td>No</td>\n",
       "      <td>NaN</td>\n",
       "      <td>chicken</td>\n",
       "      <td>ileal, cecal</td>\n",
       "      <td>relative</td>\n",
       "      <td>before morning feeding</td>\n",
       "      <td>to see the weight difference</td>\n",
       "    </tr>\n",
       "    <tr>\n",
       "      <th>5</th>\n",
       "      <td>ASM</td>\n",
       "      <td>mSystems</td>\n",
       "      <td>2019</td>\n",
       "      <td>Alterations in Gut Glutamate Metabolism Associ...</td>\n",
       "      <td>10.1128/mSystems.00321-18</td>\n",
       "      <td>NaN</td>\n",
       "      <td>Wang</td>\n",
       "      <td>Zhou</td>\n",
       "      <td>Yes</td>\n",
       "      <td>No</td>\n",
       "      <td>NaN</td>\n",
       "      <td>human</td>\n",
       "      <td>feces</td>\n",
       "      <td>not provided</td>\n",
       "      <td>NaN</td>\n",
       "      <td>not provided</td>\n",
       "    </tr>\n",
       "    <tr>\n",
       "      <th>6</th>\n",
       "      <td>ASM</td>\n",
       "      <td>mSystems</td>\n",
       "      <td>2019</td>\n",
       "      <td>The Adenoids but Not the Palatine Tonsils Serv...</td>\n",
       "      <td>10.1128/mSystems.00169-18</td>\n",
       "      <td>NaN</td>\n",
       "      <td>Olsen</td>\n",
       "      <td>Jensen</td>\n",
       "      <td>Yes</td>\n",
       "      <td>No</td>\n",
       "      <td>NaN</td>\n",
       "      <td>human</td>\n",
       "      <td>oral</td>\n",
       "      <td>relative</td>\n",
       "      <td>during general anesthesia before surgery comme...</td>\n",
       "      <td>not provided</td>\n",
       "    </tr>\n",
       "    <tr>\n",
       "      <th>...</th>\n",
       "      <td>...</td>\n",
       "      <td>...</td>\n",
       "      <td>...</td>\n",
       "      <td>...</td>\n",
       "      <td>...</td>\n",
       "      <td>...</td>\n",
       "      <td>...</td>\n",
       "      <td>...</td>\n",
       "      <td>...</td>\n",
       "      <td>...</td>\n",
       "      <td>...</td>\n",
       "      <td>...</td>\n",
       "      <td>...</td>\n",
       "      <td>...</td>\n",
       "      <td>...</td>\n",
       "      <td>...</td>\n",
       "    </tr>\n",
       "    <tr>\n",
       "      <th>559</th>\n",
       "      <td>Cell</td>\n",
       "      <td>Cell</td>\n",
       "      <td>2019</td>\n",
       "      <td>Commensal Microbiota Promote Lung Cancer Devel...</td>\n",
       "      <td>10.1016/j.cell.2018.12.040</td>\n",
       "      <td>NaN</td>\n",
       "      <td>Jin</td>\n",
       "      <td>Jacks</td>\n",
       "      <td>Yes</td>\n",
       "      <td>Yes</td>\n",
       "      <td>NaN</td>\n",
       "      <td>mouse</td>\n",
       "      <td>fecal, lung tumors</td>\n",
       "      <td>not provided</td>\n",
       "      <td>NaN</td>\n",
       "      <td>not provided</td>\n",
       "    </tr>\n",
       "    <tr>\n",
       "      <th>564</th>\n",
       "      <td>Cell</td>\n",
       "      <td>Cell</td>\n",
       "      <td>2019</td>\n",
       "      <td>Marine DNA Viral Macro- and Microdiversity fro...</td>\n",
       "      <td>10.1016/j.cell.2019.03.040</td>\n",
       "      <td>NaN</td>\n",
       "      <td>Gregory</td>\n",
       "      <td>Sullivan</td>\n",
       "      <td>Yes</td>\n",
       "      <td>No</td>\n",
       "      <td>NaN</td>\n",
       "      <td>environment</td>\n",
       "      <td>ocean water</td>\n",
       "      <td>not provided</td>\n",
       "      <td>NaN</td>\n",
       "      <td>not provided</td>\n",
       "    </tr>\n",
       "    <tr>\n",
       "      <th>567</th>\n",
       "      <td>Cell</td>\n",
       "      <td>Cell</td>\n",
       "      <td>2019</td>\n",
       "      <td>Global Trends in Marine Plankton Diversity acr...</td>\n",
       "      <td>10.1016/j.cell.2019.10.008</td>\n",
       "      <td>NaN</td>\n",
       "      <td>Ibarbalz</td>\n",
       "      <td>Zinger</td>\n",
       "      <td>Yes</td>\n",
       "      <td>No</td>\n",
       "      <td>NaN</td>\n",
       "      <td>environment</td>\n",
       "      <td>seawater</td>\n",
       "      <td>not provided</td>\n",
       "      <td>NaN</td>\n",
       "      <td>not provided</td>\n",
       "    </tr>\n",
       "    <tr>\n",
       "      <th>572</th>\n",
       "      <td>Cell</td>\n",
       "      <td>Cell</td>\n",
       "      <td>2019</td>\n",
       "      <td>Genomes of Subaerial Zygnematophyceae Provide ...</td>\n",
       "      <td>10.1016/j.cell.2019.10.019</td>\n",
       "      <td>NaN</td>\n",
       "      <td>Cheng</td>\n",
       "      <td>Melkonian</td>\n",
       "      <td>Yes</td>\n",
       "      <td>No</td>\n",
       "      <td>NaN</td>\n",
       "      <td>culture</td>\n",
       "      <td>culture bacteria</td>\n",
       "      <td>not provided</td>\n",
       "      <td>NaN</td>\n",
       "      <td>not provided</td>\n",
       "    </tr>\n",
       "    <tr>\n",
       "      <th>574</th>\n",
       "      <td>Cell</td>\n",
       "      <td>Cell</td>\n",
       "      <td>2019</td>\n",
       "      <td>Recirculating Intestinal IgA-Producing Cells R...</td>\n",
       "      <td>10.1016/j.cell.2018.11.035</td>\n",
       "      <td>NaN</td>\n",
       "      <td>Rojas</td>\n",
       "      <td>Gommerman</td>\n",
       "      <td>Yes</td>\n",
       "      <td>Yes</td>\n",
       "      <td>12:12</td>\n",
       "      <td>mouse</td>\n",
       "      <td>spleen, axillary, inguinal, cervical lymph nod...</td>\n",
       "      <td>relative</td>\n",
       "      <td>before administration of steroids or immunomod...</td>\n",
       "      <td>not provided</td>\n",
       "    </tr>\n",
       "  </tbody>\n",
       "</table>\n",
       "<p>317 rows × 16 columns</p>\n",
       "</div>"
      ],
      "text/plain": [
       "    Journal_Group   Journal  Year  \\\n",
       "0             ASM  mSystems  2019   \n",
       "3             ASM  mSystems  2019   \n",
       "4             ASM  mSystems  2019   \n",
       "5             ASM  mSystems  2019   \n",
       "6             ASM  mSystems  2019   \n",
       "..            ...       ...   ...   \n",
       "559          Cell      Cell  2019   \n",
       "564          Cell      Cell  2019   \n",
       "567          Cell      Cell  2019   \n",
       "572          Cell      Cell  2019   \n",
       "574          Cell      Cell  2019   \n",
       "\n",
       "                                         Article_Title  \\\n",
       "0    Pangenomic Approach To Understanding Microbial...   \n",
       "3    Rare Taxa Exhibit Disproportionate Cell-Level ...   \n",
       "4    Feed Restriction Modifies Intestinal Microbiot...   \n",
       "5    Alterations in Gut Glutamate Metabolism Associ...   \n",
       "6    The Adenoids but Not the Palatine Tonsils Serv...   \n",
       "..                                                 ...   \n",
       "559  Commensal Microbiota Promote Lung Cancer Devel...   \n",
       "564  Marine DNA Viral Macro- and Microdiversity fro...   \n",
       "567  Global Trends in Marine Plankton Diversity acr...   \n",
       "572  Genomes of Subaerial Zygnematophyceae Provide ...   \n",
       "574  Recirculating Intestinal IgA-Producing Cells R...   \n",
       "\n",
       "                            doi  PMID First_Author Last_Author Microbiome  \\\n",
       "0     10.1128/mSystems.00281-18   NaN    Blaustein    Hartmann        Yes   \n",
       "3     10.1128/mSystems.00208-18   NaN          Jia         Lee        Yes   \n",
       "4     10.1128/mSystems.00261-18   NaN       Zebeli      Zebeli        Yes   \n",
       "5     10.1128/mSystems.00321-18   NaN         Wang        Zhou        Yes   \n",
       "6     10.1128/mSystems.00169-18   NaN        Olsen      Jensen        Yes   \n",
       "..                          ...   ...          ...         ...        ...   \n",
       "559  10.1016/j.cell.2018.12.040   NaN          Jin       Jacks        Yes   \n",
       "564  10.1016/j.cell.2019.03.040   NaN      Gregory    Sullivan        Yes   \n",
       "567  10.1016/j.cell.2019.10.008   NaN     Ibarbalz      Zinger        Yes   \n",
       "572  10.1016/j.cell.2019.10.019   NaN        Cheng   Melkonian        Yes   \n",
       "574  10.1016/j.cell.2018.11.035   NaN        Rojas   Gommerman        Yes   \n",
       "\n",
       "    Vivarium Vivarium_Settings   Sample_Host  \\\n",
       "0         No               NaN   environment   \n",
       "3         No               NaN       culture   \n",
       "4         No               NaN       chicken   \n",
       "5         No               NaN         human   \n",
       "6         No               NaN         human   \n",
       "..       ...               ...           ...   \n",
       "559      Yes               NaN         mouse   \n",
       "564       No               NaN  environment    \n",
       "567       No               NaN   environment   \n",
       "572       No               NaN       culture   \n",
       "574      Yes             12:12         mouse   \n",
       "\n",
       "                                           Sample_Type Collection_Time  \\\n",
       "0                                    built environment    not provided   \n",
       "3                                       mock community    not provided   \n",
       "4                                         ileal, cecal        relative   \n",
       "5                                                feces    not provided   \n",
       "6                                                 oral        relative   \n",
       "..                                                 ...             ...   \n",
       "559                                 fecal, lung tumors    not provided   \n",
       "564                                        ocean water    not provided   \n",
       "567                                           seawater    not provided   \n",
       "572                                   culture bacteria    not provided   \n",
       "574  spleen, axillary, inguinal, cervical lymph nod...        relative   \n",
       "\n",
       "                                             Time_note  \\\n",
       "0                                                  NaN   \n",
       "3                                                  NaN   \n",
       "4                               before morning feeding   \n",
       "5                                                  NaN   \n",
       "6    during general anesthesia before surgery comme...   \n",
       "..                                                 ...   \n",
       "559                                                NaN   \n",
       "564                                                NaN   \n",
       "567                                                NaN   \n",
       "572                                                NaN   \n",
       "574  before administration of steroids or immunomod...   \n",
       "\n",
       "           Collection_Time_Reason  \n",
       "0                    not provided  \n",
       "3                    not provided  \n",
       "4    to see the weight difference  \n",
       "5                    not provided  \n",
       "6                    not provided  \n",
       "..                            ...  \n",
       "559                  not provided  \n",
       "564                  not provided  \n",
       "567                  not provided  \n",
       "572                  not provided  \n",
       "574                  not provided  \n",
       "\n",
       "[317 rows x 16 columns]"
      ]
     },
     "execution_count": 20,
     "metadata": {},
     "output_type": "execute_result"
    }
   ],
   "source": [
    "Microdf= df[df['Microbiome']=='Yes']\n",
    "Microdf"
   ]
  },
  {
   "cell_type": "code",
   "execution_count": 21,
   "metadata": {},
   "outputs": [
    {
     "data": {
      "text/plain": [
       "not provided    287\n",
       "relative         29\n",
       "Yes               1\n",
       "Name: Collection_Time, dtype: int64"
      ]
     },
     "execution_count": 21,
     "metadata": {},
     "output_type": "execute_result"
    }
   ],
   "source": [
    "df6 = Microdf.Collection_Time.value_counts()\n",
    "df6"
   ]
  },
  {
   "cell_type": "code",
   "execution_count": 22,
   "metadata": {},
   "outputs": [
    {
     "data": {
      "image/png": "[encoded data removed]",
      "text/plain": [
       "<Figure size 432x288 with 1 Axes>"
      ]
     },
     "metadata": {},
     "output_type": "display_data"
    }
   ],
   "source": [
    "df6.plot.pie(autopct=\"%.2f%%\")\n",
    "plt.title(\"Collection Time for Microbiome Data\", fontsize=20)\n",
    "plt.ylabel('')\n",
    "plt.rcParams['font.family'] = 'sans-serif'\n",
    "plt.rcParams['font.sans-serif'] = 'Arial'\n",
    "plt.rcParams['svg.fonttype'] = 'none'\n",
    "plt.savefig('../figures/Journals/JournalAnalysis_CollectionTime_MicrobiomeData.svg', dpi=150, bbox_inches='tight')"
   ]
  },
  {
   "cell_type": "code",
   "execution_count": 23,
   "metadata": {},
   "outputs": [
    {
     "data": {
      "text/plain": [
       "Nature     116\n",
       "ASM         84\n",
       "Cell        81\n",
       "Science     36\n",
       "Name: Journal_Group, dtype: int64"
      ]
     },
     "execution_count": 23,
     "metadata": {},
     "output_type": "execute_result"
    }
   ],
   "source": [
    "df7 = Microdf.Journal_Group.value_counts()\n",
    "df7"
   ]
  },
  {
   "cell_type": "code",
   "execution_count": 24,
   "metadata": {},
   "outputs": [
    {
     "data": {
      "image/png": "[encoded data removed]",
      "text/plain": [
       "<Figure size 432x288 with 1 Axes>"
      ]
     },
     "metadata": {},
     "output_type": "display_data"
    }
   ],
   "source": [
    "df7.plot.pie(autopct=\"%.2f%%\", explode=[0.04]*4, colors=['lightcoral', 'darkorange', 'red', 'gold'])\n",
    "plt.title(\"Journal Group Composition for Articles that have Microbiome Data\", fontsize=20)\n",
    "plt.ylabel('')\n",
    "plt.rcParams['font.family'] = 'sans-serif'\n",
    "plt.rcParams['font.sans-serif'] = 'Arial'\n",
    "plt.rcParams['svg.fonttype'] = 'none'\n",
    "plt.savefig('../figures/Journals/JournalAnalysis_JournalGroupComposition_MicrobiomeData.svg', dpi=150, bbox_inches='tight')"
   ]
  },
  {
   "cell_type": "code",
   "execution_count": 25,
   "metadata": {},
   "outputs": [
    {
     "data": {
      "text/plain": [
       "mSystems                                                                                            84\n",
       "Nature Communications                                                                               69\n",
       "Cell Host Microbe                                                                                   37\n",
       "Science; Science Translational Medicine; Science Signaling; Science Advances; Science Immunology    36\n",
       "Nature Microbiology                                                                                 28\n",
       "Nature                                                                                              19\n",
       "Cell Reports                                                                                        19\n",
       "Cell                                                                                                19\n",
       "Cell Metabolism                                                                                      6\n",
       "Name: Journal, dtype: int64"
      ]
     },
     "execution_count": 25,
     "metadata": {},
     "output_type": "execute_result"
    }
   ],
   "source": [
    "df8 = Microdf.Journal.value_counts()\n",
    "df8"
   ]
  },
  {
   "cell_type": "code",
   "execution_count": 26,
   "metadata": {},
   "outputs": [
    {
     "data": {
      "image/png": "[encoded data removed]",
      "text/plain": [
       "<Figure size 432x288 with 1 Axes>"
      ]
     },
     "metadata": {},
     "output_type": "display_data"
    }
   ],
   "source": [
    "df8.plot.pie(autopct=\"%.2f%%\", explode=[0.04]*9, colors=['mediumseagreen','darkgreen','aquamarine','lime','cadetblue','lightseagreen', 'deepskyblue','teal','steelblue'])\n",
    "plt.title(\"Journal Composition for Articles that have Microbiome Data\", fontsize=20)\n",
    "plt.ylabel('')\n",
    "plt.rcParams['font.family'] = 'sans-serif'\n",
    "plt.rcParams['font.sans-serif'] = 'Arial'\n",
    "plt.rcParams['svg.fonttype'] = 'none'\n",
    "plt.savefig('../figures/Journals/JournalAnalysis_JournalComposition_MicrobiomeData.svg', dpi=150, bbox_inches='tight')"
   ]
  },
  {
   "cell_type": "code",
   "execution_count": null,
   "metadata": {},
   "outputs": [],
   "source": []
  }
 ],
 "metadata": {
  "kernelspec": {
   "display_name": "Python 3",
   "language": "python",
   "name": "python3"
  },
  "language_info": {
   "codemirror_mode": {
    "name": "ipython",
    "version": 3
   },
   "file_extension": ".py",
   "mimetype": "text/x-python",
   "name": "python",
   "nbconvert_exporter": "python",
   "pygments_lexer": "ipython3",
   "version": "3.8.5"
  }
 },
 "nbformat": 4,
 "nbformat_minor": 4
}
